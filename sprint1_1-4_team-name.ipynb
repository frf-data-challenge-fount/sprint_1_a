{
 "cells": [
  {
   "cell_type": "markdown",
   "id": "c7b89c7c-1cec-4612-a778-e831dac337e7",
   "metadata": {},
   "source": [
    "<div style=\"display: flex; justify-content: space-between; align-items: center; margin-bottom: 40px; margin-top: 0;\">\n",
    "    <div style=\"flex: 0 0 auto; margin-left: 0; margin-bottom: 0; margin-top: 0;\">\n",
    "        <img src=\"./pics/UCSD Logo.png\" alt=\"UCSD Logo\" style=\"width: 179px; margin-bottom: 0px; margin-top: 20px;\">\n",
    "    </div>\n",
    "    <div style=\"flex: 0 0 auto; margin-left: auto; margin-bottom: 0; margin-top: 20px;\">\n",
    "        <img src=\"./pics/LANL-logo.png\" alt=\"LANL Logo\" style=\"width: 200px; margin-bottom: 0px;\">\n",
    "    </div>\n",
    "    <div style=\"flex: 0 0 auto; margin-left: auto; margin-bottom: 0; margin-top: 20px;\">\n",
    "        <img src=\"./pics/prowess.png\" alt=\"Prowess Logo\" style=\"width: 200px; margin-bottom: 0px;\">\n",
    "    </div>\n",
    "    <div style=\"flex: 0 0 auto; margin-left: auto; margin-bottom: 0; margin-top: 20px;\">\n",
    "        <img src=\"./pics/wildfire.png\" alt=\"WildFire Logo\" width=\"100\"/>\n",
    "    </div>\n",
    "</div>\n",
    "\n",
    "<h1 style=\"text-align: center; font-size: 48px; margin-top: 0;\">Fire-Ready Forests Data Challenge</h1>"
   ]
  },
  {
   "cell_type": "markdown",
   "id": "33899278-096c-4f5a-bbfd-7073e19a99fb",
   "metadata": {},
   "source": [
    "# Sprint 1 - Tasks 1-4\n",
    "\n",
    "Use this notebook to report your solutions for tasks 1-4 of Sprint 1. Add code and markdown cells as needed to report your solutions.\n",
    "\n",
    "### Task 1\n",
    "\n",
    "The FIA database and the field data collection are very similar in terms of what is being recorded, but there are differences in the population they each describe. Using the FIA database and the field data modules as a guide, filter the field data for Independence Lake (site_name = ‘ind’) and the FIA database for the corresponding ecosystem (filter on ECOSUBCD = ‘M261Ej’). Describe how the populations of these two datasets compare (i.e. distributions, averages, is one dataset more detailed than the other, etc.). Provide at least 2 figures in your response.\n"
   ]
  },
  {
   "cell_type": "code",
   "execution_count": null,
   "id": "3dcd5a19-9d42-4ac2-bce6-99241b8b46e2",
   "metadata": {},
   "outputs": [],
   "source": [
    "# Task 1 - Your code here"
   ]
  },
  {
   "cell_type": "markdown",
   "id": "2afe77d9-96bb-452a-9764-e0b43b0b770c",
   "metadata": {},
   "source": [
    "### Task 2\n",
    "\n",
    "In the FIA database notebook, we provide the code to describe the relationship between a tree's height and its diameter at breast height (DBH, ‘DIA_cm’ in the database) in a particular ecosystem ('M261Ej'), which is the same ecosystem type as Independence Lake. Filter the FIA database to a different ecosystem type and describe the relationship between height and DBH there, using at least one figure. How does the relationship in the ecosystem you chose compare to M261Ej?\r\n"
   ]
  },
  {
   "cell_type": "code",
   "execution_count": null,
   "id": "fe0a945f-821a-4b6a-bb94-586948cf12dd",
   "metadata": {},
   "outputs": [],
   "source": [
    "# Task 2 - Your code here"
   ]
  },
  {
   "cell_type": "markdown",
   "id": "e3f77022-ec44-4d1e-af8c-a2ce37a31bb3",
   "metadata": {},
   "source": [
    "### Task 3\n",
    "\n",
    "Filter the FIA database to the Independence Lake ecosystem type. Can you improve the previous model predicting DBH from height through the addition of extra data already in the FIA database? Show the results of what you have tried and provide at least 2 figures in your response. \n"
   ]
  },
  {
   "cell_type": "code",
   "execution_count": null,
   "id": "7e55b9cc-f81b-48e9-a858-e1426227f927",
   "metadata": {},
   "outputs": [],
   "source": [
    "# Task 3 - Your code here"
   ]
  },
  {
   "cell_type": "markdown",
   "id": "7c24d7a0-7220-4a04-b164-93e7b616d96a",
   "metadata": {},
   "source": [
    "### Task 4\n",
    "\n",
    "Test the models you created in questions 2 and 3 using the field data from Independence Lake and show the results of the predicted DBH compared to the actual DBH (use RMSE). What are some of the drawbacks of your model on the field data? What other data would you like to have in order to either improve on your current model or use a different modeling approach?\r\n"
   ]
  },
  {
   "cell_type": "code",
   "execution_count": null,
   "id": "366859ba-6381-4508-b7a2-58603daec7f0",
   "metadata": {},
   "outputs": [],
   "source": [
    "# Task 4 - Your code here"
   ]
  }
 ],
 "metadata": {
  "kernelspec": {
   "display_name": "Python 3 (ipykernel)",
   "language": "python",
   "name": "python3"
  },
  "language_info": {
   "codemirror_mode": {
    "name": "ipython",
    "version": 3
   },
   "file_extension": ".py",
   "mimetype": "text/x-python",
   "name": "python",
   "nbconvert_exporter": "python",
   "pygments_lexer": "ipython3",
   "version": "3.11.7"
  }
 },
 "nbformat": 4,
 "nbformat_minor": 5
}
