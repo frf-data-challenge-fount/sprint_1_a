{
 "cells": [
  {
   "cell_type": "markdown",
   "id": "3fe33337",
   "metadata": {},
   "source": [
    "<div style=\"display: flex; justify-content: space-between; align-items: center; margin-bottom: 40px; margin-top: 0;\">\n",
    "    <div style=\"flex: 0 0 auto; margin-left: 0; margin-bottom: 0; margin-top: 0;\">\n",
    "        <img src=\"./pics/UCSD Logo.png\" alt=\"UCSD Logo\" style=\"width: 179px; margin-bottom: 0px; margin-top: 20px;\">\n",
    "    </div>\n",
    "    <div style=\"flex: 0 0 auto; margin-left: auto; margin-bottom: 0; margin-top: 20px;\">\n",
    "        <img src=\"./pics/LANL-logo.png\" alt=\"LANL Logo\" style=\"width: 200px; margin-bottom: 0px;\">\n",
    "    </div>\n",
    "    <div style=\"flex: 0 0 auto; margin-left: auto; margin-bottom: 0; margin-top: 20px;\">\n",
    "        <img src=\"./pics/prowess.png\" alt=\"Prowess Logo\" style=\"width: 200px; margin-bottom: 0px;\">\n",
    "    </div>\n",
    "    <div style=\"flex: 0 0 auto; margin-left: auto; margin-bottom: 0; margin-top: 20px;\">\n",
    "        <img src=\"./pics/wildfire.png\" alt=\"WildFire Logo\" width=\"100\"/>\n",
    "    </div>\n",
    "</div>\n",
    "\n",
    "<h1 style=\"text-align: center; font-size: 48px; margin-top: 0;\">Fire-Ready Forests Data Challenge</h1>\n"
   ]
  },
  {
   "cell_type": "markdown",
   "id": "b39ae691",
   "metadata": {},
   "source": [
    "# Exploring Field Data"
   ]
  },
  {
   "cell_type": "markdown",
   "id": "2f21da68-9f5d-4621-a8bb-fdd384e10d8d",
   "metadata": {},
   "source": [
    "## Setting up the environment"
   ]
  },
  {
   "cell_type": "code",
   "execution_count": null,
   "id": "98514f83-5f46-447f-a63f-dc465d4ab067",
   "metadata": {},
   "outputs": [],
   "source": [
    "import numpy as np\n",
    "import pandas as pd\n",
    "import geopandas as gpd\n",
    "import matplotlib.pyplot as plt\n",
    "from shapely.geometry import Point\n",
    "import cartopy.crs as ccrs\n",
    "import cartopy.feature as cfeature\n"
   ]
  },
  {
   "cell_type": "markdown",
   "id": "ce7b69ab-99e2-43b4-a303-9f1dd0774a2d",
   "metadata": {},
   "source": [
    "## Downloading and opening data\n",
    "\n",
    "**NOTE:** Before running the following cell, remember to download *Plot Identification* and *Tree Inventory* from the *Observed Field Data* dataset inside the data folder."
   ]
  },
  {
   "cell_type": "code",
   "execution_count": null,
   "id": "b7d683a1-2b53-436d-b78a-3af80ab361ce",
   "metadata": {},
   "outputs": [],
   "source": [
    "df_plots = pd.read_csv(\"data/01_plot_identification.csv\")\n",
    "df_trees = pd.read_csv(\"data/03_tree.csv\")"
   ]
  },
  {
   "cell_type": "markdown",
   "id": "6e97031b-3d71-4d68-a9be-fff9ef4d4785",
   "metadata": {},
   "source": [
    "## Inspecting the columns of the dataframes"
   ]
  },
  {
   "cell_type": "code",
   "execution_count": null,
   "id": "c4b1d665-641e-4e86-ba23-dd6efff59a35",
   "metadata": {},
   "outputs": [],
   "source": [
    "def print_column_names(df):\n",
    "    cols = 4\n",
    "    for i, col in enumerate(df.columns):\n",
    "        last_col = (i + 1) % cols == 0\n",
    "        end = \"\\n\" if last_col else \" \"\n",
    "        print(f\"{col:30}\", end=end)"
   ]
  },
  {
   "cell_type": "code",
   "execution_count": null,
   "id": "634ebba5-4a2f-44f2-8d5d-2677e25eda64",
   "metadata": {},
   "outputs": [],
   "source": [
    "print_column_names(df_plots)"
   ]
  },
  {
   "cell_type": "code",
   "execution_count": null,
   "id": "2094aebe-2b75-4a40-89b7-3c7c871036bd",
   "metadata": {},
   "outputs": [],
   "source": [
    "print_column_names(df_trees)"
   ]
  },
  {
   "cell_type": "markdown",
   "id": "e4552cfa-4ff3-4ca6-859a-637932eaddf6",
   "metadata": {},
   "source": [
    "## Inspecting the rows of the dataframes"
   ]
  },
  {
   "cell_type": "code",
   "execution_count": null,
   "id": "3908fd69-eb19-4795-9021-2ee9da7a7c98",
   "metadata": {},
   "outputs": [],
   "source": [
    "#\n",
    "# Thats a lot of columns\n",
    "# Lets look at entries for a few of them\n",
    "#"
   ]
  },
  {
   "cell_type": "code",
   "execution_count": null,
   "id": "b43aa539-76e7-4c6f-93ed-231a49808c69",
   "metadata": {},
   "outputs": [],
   "source": [
    "#\n",
    "# Plots dataframe\n",
    "#\n",
    "with pd.option_context(\"display.width\", 120):\n",
    "    cols = [\"inventory_id\", \"plot_coord_x\", \"plot_coord_y\", \"site_name\", \"site_name_label\", \"inventory_date\"]\n",
    "    print(df_plots[cols])"
   ]
  },
  {
   "cell_type": "code",
   "execution_count": null,
   "id": "1154949b-8f94-455f-b2f3-2630d95ad13d",
   "metadata": {},
   "outputs": [],
   "source": [
    "#\n",
    "# Trees dataframe\n",
    "#\n",
    "with pd.option_context(\"display.width\", 120):\n",
    "    # dbh: Diameter at Breast Height\n",
    "    cols = [\"inventory_id\", \"tree_id\", \"tree_sp_scientific_name\", \"tree_status\", \"tree_dbh\"]\n",
    "    print(df_trees[cols])"
   ]
  },
  {
   "cell_type": "markdown",
   "id": "6e09f945-ad08-4d93-9c25-0c09b958a0ab",
   "metadata": {},
   "source": [
    "## Where are the sites?"
   ]
  },
  {
   "cell_type": "code",
   "execution_count": null,
   "id": "b3ff7fd8-6681-4781-8725-dc087c07a593",
   "metadata": {},
   "outputs": [],
   "source": [
    "#\n",
    "# Lets convert plot x,y into latitude,longitude and plot them on a map\n",
    "#\n",
    "print(df_plots[[\"site_name_label\", \"plot_coord_x\", \"plot_coord_y\", \"plot_coord_srs\"]])"
   ]
  },
  {
   "cell_type": "code",
   "execution_count": null,
   "id": "0ffe4890-48ef-4e62-824e-dacc9e137deb",
   "metadata": {},
   "outputs": [],
   "source": [
    "#\n",
    "# We can use x, y, and srs (Spatial Reference System) to derive latitude and longitude\n",
    "#\n",
    "gdfs = []\n",
    "for crs in df_plots[\"plot_coord_srs\"].unique():\n",
    "    df_crs = df_plots[df_plots[\"plot_coord_srs\"] == crs]\n",
    "    geometry = [Point(xy) for xy in zip(df_crs[\"plot_coord_x\"], df_crs[\"plot_coord_y\"])]\n",
    "    gdf = gpd.GeoDataFrame(df_crs, geometry=geometry, crs=f\"EPSG:{crs}\")\n",
    "    gdf = gdf.to_crs(epsg=4326)\n",
    "    gdfs.append(gdf)\n",
    "\n",
    "# Recombine the GeoDataFrames\n",
    "gdf = pd.concat(gdfs)\n",
    "gdf[\"longitude\"] = gdf.geometry.x\n",
    "gdf[\"latitude\"] = gdf.geometry.y\n",
    "with pd.option_context(\"display.width\", 140):\n",
    "    print(gdf[[\"site_name_label\", \"latitude\", \"longitude\"]])"
   ]
  },
  {
   "cell_type": "code",
   "execution_count": null,
   "id": "6abb61ee",
   "metadata": {},
   "outputs": [],
   "source": [
    "fig, ax = plt.subplots(figsize=(6, 6), subplot_kw={'projection': ccrs.PlateCarree()})\n",
    "\n",
    "# Add features and focus on California\n",
    "ax.add_feature(cfeature.STATES, edgecolor='black')\n",
    "ax.add_feature(cfeature.LAND, facecolor='lightgray')\n",
    "ax.set_extent([-125, -114, 32, 43], crs=ccrs.PlateCarree())\n",
    "# [lon_min, lon_max, lat_min, lat_max]\n",
    "\n",
    "ax.scatter(\n",
    "    gdf['longitude'],\n",
    "    gdf['latitude'],\n",
    "    color='red',\n",
    "    s=50,\n",
    "    transform=ccrs.PlateCarree(),\n",
    "    label='Plot location',\n",
    ")\n",
    "\n",
    "ax.legend(fontsize=18)\n"
   ]
  },
  {
   "cell_type": "markdown",
   "id": "a0f6e505-9d33-43ba-9868-840b0add2204",
   "metadata": {},
   "source": [
    "## How many plots are at each site?"
   ]
  },
  {
   "cell_type": "code",
   "execution_count": null,
   "id": "ccdd452f-5623-4929-a033-090f0f3fc95e",
   "metadata": {},
   "outputs": [],
   "source": [
    "col = \"site_name_label\"\n",
    "for label in df_plots[col].unique():\n",
    "    nplots = (df_plots[col] == label).sum()\n",
    "    print(f\"{nplots} plots from {label}\")"
   ]
  },
  {
   "cell_type": "markdown",
   "id": "1638c6eb-c9c6-47d3-a384-cc14d99caef9",
   "metadata": {},
   "source": [
    "## Adding site name to the tree DataFrame via `merge`"
   ]
  },
  {
   "cell_type": "code",
   "execution_count": null,
   "id": "6e782d81-5751-4f57-bbf1-1092354bc997",
   "metadata": {},
   "outputs": [],
   "source": [
    "col = \"site_name_label\"\n",
    "if col not in df_trees.columns:\n",
    "    df_trees = df_trees.merge(df_plots[[\"inventory_id\", col]], on=\"inventory_id\", how=\"left\")\n",
    "\n",
    "print(df_trees[col])\n",
    "print()\n",
    "print(\"Unique site names:\")\n",
    "print(\"\\n\".join(df_trees[col].unique()))"
   ]
  },
  {
   "cell_type": "markdown",
   "id": "c32aa4ea-6bd1-4b80-af33-3416bd99010e",
   "metadata": {},
   "source": [
    "## A tree-level distribution: height vs diameter\n",
    "Note the units on the field data - the height is in meters and the diameters is in centimeters."
   ]
  },
  {
   "cell_type": "code",
   "execution_count": null,
   "id": "e20c12f4-456a-4bac-95ab-da8bc2ca8e47",
   "metadata": {},
   "outputs": [],
   "source": [
    "#\n",
    "# For 2D, lets compare height and diameter\n",
    "#\n",
    "fig, ax = plt.subplots(figsize=(8, 6))\n",
    "\n",
    "cmap, cmin = plt.cm.winter_r, 0.5\n",
    "bins = (np.arange(0, 100, step=2), np.arange(0, 60, step=2))\n",
    "\n",
    "_, _, _, im = ax.hist2d(df_trees[\"tree_dbh\"], df_trees[\"tree_ht\"], bins=bins, cmap=cmap, cmin=cmin)\n",
    "\n",
    "cbar = fig.colorbar(im, ax=ax)\n",
    "cbar.set_label(\"Number of trees\")\n",
    "ax.set_xlabel(\"Diameter at breast height (DBH) [cm]\")\n",
    "ax.set_ylabel(\"Height (HT) [m]\")\n",
    "ax.tick_params(top=True, right=True)\n",
    "ax.set_title(\"2D histogram of tree height and diameter\")"
   ]
  }
 ],
 "metadata": {
  "kernelspec": {
   "display_name": "Python 3 (ipykernel)",
   "language": "python",
   "name": "python3"
  },
  "language_info": {
   "codemirror_mode": {
    "name": "ipython",
    "version": 3
   },
   "file_extension": ".py",
   "mimetype": "text/x-python",
   "name": "python",
   "nbconvert_exporter": "python",
   "pygments_lexer": "ipython3",
   "version": "3.11.7"
  }
 },
 "nbformat": 4,
 "nbformat_minor": 5
}
